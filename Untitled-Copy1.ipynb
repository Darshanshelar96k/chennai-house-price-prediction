{
 "cells": [
  {
   "cell_type": "code",
   "execution_count": 1,
   "id": "0693eb2a",
   "metadata": {},
   "outputs": [],
   "source": [
    "import pandas as pd\n",
    "import numpy as np"
   ]
  },
  {
   "cell_type": "code",
   "execution_count": 2,
   "id": "ea3267da",
   "metadata": {},
   "outputs": [],
   "source": [
    "#rad the  dataset\n",
    "dataset = pd.read_csv(\"C:\\\\Users\\\\91960\\\\Downloads\\\\p_house\\\\clean_data.csv\")"
   ]
  },
  {
   "cell_type": "code",
   "execution_count": 3,
   "id": "bbff4d6a",
   "metadata": {
    "scrolled": true
   },
   "outputs": [
    {
     "data": {
      "text/html": [
       "<div>\n",
       "<style scoped>\n",
       "    .dataframe tbody tr th:only-of-type {\n",
       "        vertical-align: middle;\n",
       "    }\n",
       "\n",
       "    .dataframe tbody tr th {\n",
       "        vertical-align: top;\n",
       "    }\n",
       "\n",
       "    .dataframe thead th {\n",
       "        text-align: right;\n",
       "    }\n",
       "</style>\n",
       "<table border=\"1\" class=\"dataframe\">\n",
       "  <thead>\n",
       "    <tr style=\"text-align: right;\">\n",
       "      <th></th>\n",
       "      <th>price</th>\n",
       "      <th>area</th>\n",
       "      <th>status</th>\n",
       "      <th>bhk</th>\n",
       "      <th>bathroom</th>\n",
       "      <th>age</th>\n",
       "      <th>location</th>\n",
       "      <th>builder</th>\n",
       "    </tr>\n",
       "  </thead>\n",
       "  <tbody>\n",
       "    <tr>\n",
       "      <th>0</th>\n",
       "      <td>37.49</td>\n",
       "      <td>872</td>\n",
       "      <td>Ready to move</td>\n",
       "      <td>2</td>\n",
       "      <td>NaN</td>\n",
       "      <td>1.0</td>\n",
       "      <td>Sembakkam</td>\n",
       "      <td>MP Developers</td>\n",
       "    </tr>\n",
       "    <tr>\n",
       "      <th>1</th>\n",
       "      <td>93.54</td>\n",
       "      <td>1346</td>\n",
       "      <td>Under Construction</td>\n",
       "      <td>3</td>\n",
       "      <td>2.0</td>\n",
       "      <td>NaN</td>\n",
       "      <td>Selaiyur</td>\n",
       "      <td>DAC Promoters</td>\n",
       "    </tr>\n",
       "    <tr>\n",
       "      <th>2</th>\n",
       "      <td>151.00</td>\n",
       "      <td>2225</td>\n",
       "      <td>Under Construction</td>\n",
       "      <td>3</td>\n",
       "      <td>NaN</td>\n",
       "      <td>0.0</td>\n",
       "      <td>Mogappair</td>\n",
       "      <td>Casagrand Builder Private Limited</td>\n",
       "    </tr>\n",
       "    <tr>\n",
       "      <th>3</th>\n",
       "      <td>49.00</td>\n",
       "      <td>1028</td>\n",
       "      <td>Ready to move</td>\n",
       "      <td>2</td>\n",
       "      <td>2.0</td>\n",
       "      <td>3.0</td>\n",
       "      <td>Ambattur</td>\n",
       "      <td>Dugar Housing Builders</td>\n",
       "    </tr>\n",
       "    <tr>\n",
       "      <th>4</th>\n",
       "      <td>42.28</td>\n",
       "      <td>588</td>\n",
       "      <td>Under Construction</td>\n",
       "      <td>2</td>\n",
       "      <td>1.0</td>\n",
       "      <td>0.0</td>\n",
       "      <td>Pallavaram</td>\n",
       "      <td>Radiance Realty Developers India Ltd</td>\n",
       "    </tr>\n",
       "    <tr>\n",
       "      <th>5</th>\n",
       "      <td>188.00</td>\n",
       "      <td>2221</td>\n",
       "      <td>Under Construction</td>\n",
       "      <td>3</td>\n",
       "      <td>3.0</td>\n",
       "      <td>0.0</td>\n",
       "      <td>Virugambakkam</td>\n",
       "      <td>Traventure Homes Pvt Ltd</td>\n",
       "    </tr>\n",
       "    <tr>\n",
       "      <th>6</th>\n",
       "      <td>38.00</td>\n",
       "      <td>885</td>\n",
       "      <td>Under Construction</td>\n",
       "      <td>3</td>\n",
       "      <td>NaN</td>\n",
       "      <td>0.0</td>\n",
       "      <td>Thirumazhisai</td>\n",
       "      <td>Urbanrise</td>\n",
       "    </tr>\n",
       "    <tr>\n",
       "      <th>7</th>\n",
       "      <td>72.99</td>\n",
       "      <td>936</td>\n",
       "      <td>Ready to move</td>\n",
       "      <td>3</td>\n",
       "      <td>NaN</td>\n",
       "      <td>6.0</td>\n",
       "      <td>Moolakadai</td>\n",
       "      <td>Navin Housing Properties P LTD</td>\n",
       "    </tr>\n",
       "    <tr>\n",
       "      <th>8</th>\n",
       "      <td>125.00</td>\n",
       "      <td>2275</td>\n",
       "      <td>Ready to move</td>\n",
       "      <td>4</td>\n",
       "      <td>NaN</td>\n",
       "      <td>1.0</td>\n",
       "      <td>Ottiyambakkam</td>\n",
       "      <td>Jones foundation private limited</td>\n",
       "    </tr>\n",
       "    <tr>\n",
       "      <th>9</th>\n",
       "      <td>24.56</td>\n",
       "      <td>622</td>\n",
       "      <td>Under Construction</td>\n",
       "      <td>2</td>\n",
       "      <td>NaN</td>\n",
       "      <td>0.0</td>\n",
       "      <td>Perungalathur</td>\n",
       "      <td>Isha Homes</td>\n",
       "    </tr>\n",
       "  </tbody>\n",
       "</table>\n",
       "</div>"
      ],
      "text/plain": [
       "    price  area              status  bhk  bathroom  age       location  \\\n",
       "0   37.49   872       Ready to move    2       NaN  1.0      Sembakkam   \n",
       "1   93.54  1346  Under Construction    3       2.0  NaN       Selaiyur   \n",
       "2  151.00  2225  Under Construction    3       NaN  0.0      Mogappair   \n",
       "3   49.00  1028       Ready to move    2       2.0  3.0       Ambattur   \n",
       "4   42.28   588  Under Construction    2       1.0  0.0     Pallavaram   \n",
       "5  188.00  2221  Under Construction    3       3.0  0.0  Virugambakkam   \n",
       "6   38.00   885  Under Construction    3       NaN  0.0  Thirumazhisai   \n",
       "7   72.99   936       Ready to move    3       NaN  6.0     Moolakadai   \n",
       "8  125.00  2275       Ready to move    4       NaN  1.0  Ottiyambakkam   \n",
       "9   24.56   622  Under Construction    2       NaN  0.0  Perungalathur   \n",
       "\n",
       "                                builder  \n",
       "0                         MP Developers  \n",
       "1                         DAC Promoters  \n",
       "2     Casagrand Builder Private Limited  \n",
       "3                Dugar Housing Builders  \n",
       "4  Radiance Realty Developers India Ltd  \n",
       "5              Traventure Homes Pvt Ltd  \n",
       "6                             Urbanrise  \n",
       "7        Navin Housing Properties P LTD  \n",
       "8      Jones foundation private limited  \n",
       "9                            Isha Homes  "
      ]
     },
     "execution_count": 3,
     "metadata": {},
     "output_type": "execute_result"
    }
   ],
   "source": [
    "dataset.head(10)"
   ]
  },
  {
   "cell_type": "code",
   "execution_count": 4,
   "id": "d6e2f25e",
   "metadata": {},
   "outputs": [
    {
     "name": "stdout",
     "output_type": "stream",
     "text": [
      "<class 'pandas.core.frame.DataFrame'>\n",
      "RangeIndex: 2620 entries, 0 to 2619\n",
      "Data columns (total 8 columns):\n",
      " #   Column    Non-Null Count  Dtype  \n",
      "---  ------    --------------  -----  \n",
      " 0   price     2620 non-null   float64\n",
      " 1   area      2620 non-null   int64  \n",
      " 2   status    2620 non-null   object \n",
      " 3   bhk       2620 non-null   int64  \n",
      " 4   bathroom  1403 non-null   float64\n",
      " 5   age       1729 non-null   float64\n",
      " 6   location  2620 non-null   object \n",
      " 7   builder   2620 non-null   object \n",
      "dtypes: float64(3), int64(2), object(3)\n",
      "memory usage: 163.9+ KB\n"
     ]
    }
   ],
   "source": [
    "#check  null values present or not feature wise also data types \n",
    "dataset.info()"
   ]
  },
  {
   "cell_type": "code",
   "execution_count": 5,
   "id": "8ff08428",
   "metadata": {},
   "outputs": [
    {
     "data": {
      "text/plain": [
       "<seaborn.axisgrid.FacetGrid at 0x259285e9040>"
      ]
     },
     "execution_count": 5,
     "metadata": {},
     "output_type": "execute_result"
    },
    {
     "data": {
      "image/png": "[encoded data removed]",
      "text/plain": [
       "<Figure size 360x360 with 1 Axes>"
      ]
     },
     "metadata": {
      "needs_background": "light"
     },
     "output_type": "display_data"
    }
   ],
   "source": [
    "import seaborn as sns\n",
    "sns.displot(dataset['price'])"
   ]
  },
  {
   "cell_type": "code",
   "execution_count": 6,
   "id": "2f8b29a1",
   "metadata": {},
   "outputs": [
    {
     "data": {
      "text/plain": [
       "4.56773040711779"
      ]
     },
     "execution_count": 6,
     "metadata": {},
     "output_type": "execute_result"
    }
   ],
   "source": [
    "dataset['price'].skew()"
   ]
  },
  {
   "cell_type": "code",
   "execution_count": 7,
   "id": "2607c90e",
   "metadata": {},
   "outputs": [
    {
     "data": {
      "text/html": [
       "<div>\n",
       "<style scoped>\n",
       "    .dataframe tbody tr th:only-of-type {\n",
       "        vertical-align: middle;\n",
       "    }\n",
       "\n",
       "    .dataframe tbody tr th {\n",
       "        vertical-align: top;\n",
       "    }\n",
       "\n",
       "    .dataframe thead th {\n",
       "        text-align: right;\n",
       "    }\n",
       "</style>\n",
       "<table border=\"1\" class=\"dataframe\">\n",
       "  <thead>\n",
       "    <tr style=\"text-align: right;\">\n",
       "      <th></th>\n",
       "      <th>price</th>\n",
       "      <th>area</th>\n",
       "      <th>bhk</th>\n",
       "      <th>bathroom</th>\n",
       "      <th>age</th>\n",
       "    </tr>\n",
       "  </thead>\n",
       "  <tbody>\n",
       "    <tr>\n",
       "      <th>count</th>\n",
       "      <td>2620.000000</td>\n",
       "      <td>2620.000000</td>\n",
       "      <td>2620.000000</td>\n",
       "      <td>1403.000000</td>\n",
       "      <td>1729.000000</td>\n",
       "    </tr>\n",
       "    <tr>\n",
       "      <th>mean</th>\n",
       "      <td>93.834683</td>\n",
       "      <td>1282.925191</td>\n",
       "      <td>2.443893</td>\n",
       "      <td>2.359230</td>\n",
       "      <td>1.355119</td>\n",
       "    </tr>\n",
       "    <tr>\n",
       "      <th>std</th>\n",
       "      <td>113.609349</td>\n",
       "      <td>692.566319</td>\n",
       "      <td>0.811984</td>\n",
       "      <td>0.844951</td>\n",
       "      <td>2.102682</td>\n",
       "    </tr>\n",
       "    <tr>\n",
       "      <th>min</th>\n",
       "      <td>12.830000</td>\n",
       "      <td>300.000000</td>\n",
       "      <td>1.000000</td>\n",
       "      <td>1.000000</td>\n",
       "      <td>0.000000</td>\n",
       "    </tr>\n",
       "    <tr>\n",
       "      <th>25%</th>\n",
       "      <td>42.000000</td>\n",
       "      <td>877.000000</td>\n",
       "      <td>2.000000</td>\n",
       "      <td>2.000000</td>\n",
       "      <td>0.000000</td>\n",
       "    </tr>\n",
       "    <tr>\n",
       "      <th>50%</th>\n",
       "      <td>61.735000</td>\n",
       "      <td>1091.500000</td>\n",
       "      <td>2.000000</td>\n",
       "      <td>2.000000</td>\n",
       "      <td>0.000000</td>\n",
       "    </tr>\n",
       "    <tr>\n",
       "      <th>75%</th>\n",
       "      <td>90.000000</td>\n",
       "      <td>1471.250000</td>\n",
       "      <td>3.000000</td>\n",
       "      <td>3.000000</td>\n",
       "      <td>3.000000</td>\n",
       "    </tr>\n",
       "    <tr>\n",
       "      <th>max</th>\n",
       "      <td>1422.000000</td>\n",
       "      <td>6700.000000</td>\n",
       "      <td>8.000000</td>\n",
       "      <td>7.000000</td>\n",
       "      <td>32.000000</td>\n",
       "    </tr>\n",
       "  </tbody>\n",
       "</table>\n",
       "</div>"
      ],
      "text/plain": [
       "             price         area          bhk     bathroom          age\n",
       "count  2620.000000  2620.000000  2620.000000  1403.000000  1729.000000\n",
       "mean     93.834683  1282.925191     2.443893     2.359230     1.355119\n",
       "std     113.609349   692.566319     0.811984     0.844951     2.102682\n",
       "min      12.830000   300.000000     1.000000     1.000000     0.000000\n",
       "25%      42.000000   877.000000     2.000000     2.000000     0.000000\n",
       "50%      61.735000  1091.500000     2.000000     2.000000     0.000000\n",
       "75%      90.000000  1471.250000     3.000000     3.000000     3.000000\n",
       "max    1422.000000  6700.000000     8.000000     7.000000    32.000000"
      ]
     },
     "execution_count": 7,
     "metadata": {},
     "output_type": "execute_result"
    }
   ],
   "source": [
    "\n",
    "dataset.describe()"
   ]
  },
  {
   "cell_type": "code",
   "execution_count": 8,
   "id": "2b7ebc02",
   "metadata": {},
   "outputs": [],
   "source": [
    "target = np.log(dataset['price'])"
   ]
  },
  {
   "cell_type": "code",
   "execution_count": null,
   "id": "4066bda6",
   "metadata": {},
   "outputs": [],
   "source": []
  },
  {
   "cell_type": "code",
   "execution_count": null,
   "id": "61d75715",
   "metadata": {},
   "outputs": [],
   "source": []
  },
  {
   "cell_type": "code",
   "execution_count": null,
   "id": "55430305",
   "metadata": {},
   "outputs": [],
   "source": []
  },
  {
   "cell_type": "code",
   "execution_count": null,
   "id": "aecf4347",
   "metadata": {},
   "outputs": [],
   "source": []
  },
  {
   "cell_type": "code",
   "execution_count": null,
   "id": "7b4b991b",
   "metadata": {},
   "outputs": [],
   "source": []
  },
  {
   "cell_type": "code",
   "execution_count": null,
   "id": "ab7ac92f",
   "metadata": {},
   "outputs": [],
   "source": []
  },
  {
   "cell_type": "code",
   "execution_count": 9,
   "id": "b2eba107",
   "metadata": {},
   "outputs": [
    {
     "data": {
      "text/html": [
       "<div>\n",
       "<style scoped>\n",
       "    .dataframe tbody tr th:only-of-type {\n",
       "        vertical-align: middle;\n",
       "    }\n",
       "\n",
       "    .dataframe tbody tr th {\n",
       "        vertical-align: top;\n",
       "    }\n",
       "\n",
       "    .dataframe thead th {\n",
       "        text-align: right;\n",
       "    }\n",
       "</style>\n",
       "<table border=\"1\" class=\"dataframe\">\n",
       "  <thead>\n",
       "    <tr style=\"text-align: right;\">\n",
       "      <th></th>\n",
       "      <th>price</th>\n",
       "      <th>area</th>\n",
       "      <th>status</th>\n",
       "      <th>bhk</th>\n",
       "      <th>bathroom</th>\n",
       "      <th>age</th>\n",
       "      <th>location</th>\n",
       "      <th>builder</th>\n",
       "    </tr>\n",
       "  </thead>\n",
       "  <tbody>\n",
       "    <tr>\n",
       "      <th>1475</th>\n",
       "      <td>1422.0</td>\n",
       "      <td>6617</td>\n",
       "      <td>Ready to move</td>\n",
       "      <td>5</td>\n",
       "      <td>NaN</td>\n",
       "      <td>2.0</td>\n",
       "      <td>Royapettah</td>\n",
       "      <td>Vinay Asrani</td>\n",
       "    </tr>\n",
       "  </tbody>\n",
       "</table>\n",
       "</div>"
      ],
      "text/plain": [
       "       price  area         status  bhk  bathroom  age    location  \\\n",
       "1475  1422.0  6617  Ready to move    5       NaN  2.0  Royapettah   \n",
       "\n",
       "           builder  \n",
       "1475  Vinay Asrani  "
      ]
     },
     "execution_count": 9,
     "metadata": {},
     "output_type": "execute_result"
    }
   ],
   "source": [
    "dataset[dataset[\"price\"] >= 1400]"
   ]
  },
  {
   "cell_type": "code",
   "execution_count": 10,
   "id": "bb6c308c",
   "metadata": {},
   "outputs": [
    {
     "data": {
      "text/plain": [
       "0"
      ]
     },
     "execution_count": 10,
     "metadata": {},
     "output_type": "execute_result"
    }
   ],
   "source": [
    "dataset[dataset[\"bathroom\"] == -1.0].value_counts().sum()"
   ]
  },
  {
   "cell_type": "code",
   "execution_count": null,
   "id": "a2e33404",
   "metadata": {},
   "outputs": [],
   "source": []
  },
  {
   "cell_type": "code",
   "execution_count": 11,
   "id": "295e0390",
   "metadata": {},
   "outputs": [
    {
     "data": {
      "text/plain": [
       "2620"
      ]
     },
     "execution_count": 11,
     "metadata": {},
     "output_type": "execute_result"
    }
   ],
   "source": [
    "dataset[\"status\"].value_counts().sum()"
   ]
  },
  {
   "cell_type": "code",
   "execution_count": 12,
   "id": "1653dd07",
   "metadata": {},
   "outputs": [
    {
     "data": {
      "text/plain": [
       "Ready to move         1487\n",
       "Under Construction    1133\n",
       "Name: status, dtype: int64"
      ]
     },
     "execution_count": 12,
     "metadata": {},
     "output_type": "execute_result"
    }
   ],
   "source": [
    "dataset[\"status\"].value_counts()"
   ]
  },
  {
   "cell_type": "code",
   "execution_count": 13,
   "id": "fd575bba",
   "metadata": {},
   "outputs": [
    {
     "data": {
      "text/plain": [
       "891"
      ]
     },
     "execution_count": 13,
     "metadata": {},
     "output_type": "execute_result"
    }
   ],
   "source": [
    "dataset[\"age\"].isna().sum()"
   ]
  },
  {
   "cell_type": "code",
   "execution_count": 14,
   "id": "e93c6c30",
   "metadata": {},
   "outputs": [
    {
     "data": {
      "text/plain": [
       "seller                               484\n",
       "MC Foundation                        232\n",
       "Appaswamy Real Estate                109\n",
       "Propsource Realty Private Limited     79\n",
       "Radiance Realty Developers            62\n",
       "                                    ... \n",
       "MAXWORTH PROPERTIES                    1\n",
       "Evrostos Properties                    1\n",
       "Shree sakthivel realestate             1\n",
       "Value reality                          1\n",
       "Prop Mart Technologies                 1\n",
       "Name: builder, Length: 135, dtype: int64"
      ]
     },
     "execution_count": 14,
     "metadata": {},
     "output_type": "execute_result"
    }
   ],
   "source": [
    "dataset[\"builder\"].value_counts()"
   ]
  },
  {
   "cell_type": "code",
   "execution_count": 15,
   "id": "2462efb4",
   "metadata": {},
   "outputs": [
    {
     "data": {
      "text/plain": [
       "Veppampattu            149\n",
       "Pammal                 139\n",
       "Medavakkam             111\n",
       "Sholinganallur          99\n",
       "Perungudi               88\n",
       "                      ... \n",
       "Thiruvidandhai           1\n",
       "Kumananchavadi           1\n",
       "K K Nagar                1\n",
       "Kolapakkam Vandalur      1\n",
       "Mannur                   1\n",
       "Name: location, Length: 178, dtype: int64"
      ]
     },
     "execution_count": 15,
     "metadata": {},
     "output_type": "execute_result"
    }
   ],
   "source": [
    "dataset[\"location\"].value_counts()"
   ]
  },
  {
   "cell_type": "code",
   "execution_count": 16,
   "id": "ff772375",
   "metadata": {},
   "outputs": [],
   "source": [
    "import seaborn as sns\n"
   ]
  },
  {
   "cell_type": "code",
   "execution_count": 17,
   "id": "701cb54f",
   "metadata": {},
   "outputs": [],
   "source": [
    "dataset['age'].fillna(value=0,inplace=True)#becouse all the uder constructions age is 0 "
   ]
  },
  {
   "cell_type": "code",
   "execution_count": 18,
   "id": "791aa24b",
   "metadata": {},
   "outputs": [
    {
     "data": {
      "text/plain": [
       "<AxesSubplot:xlabel='status', ylabel='count'>"
      ]
     },
     "execution_count": 18,
     "metadata": {},
     "output_type": "execute_result"
    },
    {
     "data": {
      "image/png": "[encoded data removed]",
      "text/plain": [
       "<Figure size 432x288 with 1 Axes>"
      ]
     },
     "metadata": {
      "needs_background": "light"
     },
     "output_type": "display_data"
    }
   ],
   "source": [
    "sns.countplot(x='status', hue='age',data=dataset)"
   ]
  },
  {
   "cell_type": "code",
   "execution_count": 19,
   "id": "0c6ba130",
   "metadata": {},
   "outputs": [
    {
     "data": {
      "text/plain": [
       "2.0    796\n",
       "3.0    395\n",
       "1.0    125\n",
       "5.0     49\n",
       "4.0     33\n",
       "6.0      4\n",
       "7.0      1\n",
       "Name: bathroom, dtype: int64"
      ]
     },
     "execution_count": 19,
     "metadata": {},
     "output_type": "execute_result"
    }
   ],
   "source": [
    "dataset['bathroom'].value_counts()"
   ]
  },
  {
   "cell_type": "code",
   "execution_count": 20,
   "id": "05b825af",
   "metadata": {},
   "outputs": [
    {
     "data": {
      "text/plain": [
       "<AxesSubplot:xlabel='bathroom', ylabel='count'>"
      ]
     },
     "execution_count": 20,
     "metadata": {},
     "output_type": "execute_result"
    },
    {
     "data": {
      "image/png": "[encoded data removed]",
      "text/plain": [
       "<Figure size 432x288 with 1 Axes>"
      ]
     },
     "metadata": {
      "needs_background": "light"
     },
     "output_type": "display_data"
    }
   ],
   "source": [
    "sns.countplot(x='bathroom', hue='bhk',data=dataset)"
   ]
  },
  {
   "cell_type": "raw",
   "id": "83f358f8",
   "metadata": {},
   "source": [
    "from the above imformation we clearly see the nuber of  bathrooms (mode)  are equal to the number of bhk . we can replace the nan values with the bhk value.  "
   ]
  },
  {
   "cell_type": "code",
   "execution_count": 21,
   "id": "0a259b96",
   "metadata": {},
   "outputs": [],
   "source": [
    "dataset['bathroom'].fillna(-1,inplace=True)"
   ]
  },
  {
   "cell_type": "code",
   "execution_count": 22,
   "id": "6987ec33",
   "metadata": {},
   "outputs": [],
   "source": [
    "# Function to add missing bathroom values\n",
    "def bath(x,y):\n",
    "    if y == -1:\n",
    "        if x >= 5:\n",
    "            return x+1\n",
    "        elif x == 4 | x == 3:\n",
    "            return  x\n",
    "        elif x == 1:\n",
    "            return x\n",
    "        else:\n",
    "            return x\n",
    "    else:\n",
    "        return y\n",
    "    \n",
    "dataset[\"bath\"] = dataset.apply(lambda x: bath(x[\"bhk\"], x[\"bathroom\"]), axis = 1)\n"
   ]
  },
  {
   "cell_type": "code",
   "execution_count": 23,
   "id": "b4c794a1",
   "metadata": {},
   "outputs": [
    {
     "data": {
      "text/html": [
       "<div>\n",
       "<style scoped>\n",
       "    .dataframe tbody tr th:only-of-type {\n",
       "        vertical-align: middle;\n",
       "    }\n",
       "\n",
       "    .dataframe tbody tr th {\n",
       "        vertical-align: top;\n",
       "    }\n",
       "\n",
       "    .dataframe thead th {\n",
       "        text-align: right;\n",
       "    }\n",
       "</style>\n",
       "<table border=\"1\" class=\"dataframe\">\n",
       "  <thead>\n",
       "    <tr style=\"text-align: right;\">\n",
       "      <th></th>\n",
       "      <th>price</th>\n",
       "      <th>area</th>\n",
       "      <th>status</th>\n",
       "      <th>bhk</th>\n",
       "      <th>bathroom</th>\n",
       "      <th>age</th>\n",
       "      <th>location</th>\n",
       "      <th>builder</th>\n",
       "      <th>bath</th>\n",
       "    </tr>\n",
       "  </thead>\n",
       "  <tbody>\n",
       "    <tr>\n",
       "      <th>0</th>\n",
       "      <td>37.49</td>\n",
       "      <td>872</td>\n",
       "      <td>Ready to move</td>\n",
       "      <td>2</td>\n",
       "      <td>-1.0</td>\n",
       "      <td>1.0</td>\n",
       "      <td>Sembakkam</td>\n",
       "      <td>MP Developers</td>\n",
       "      <td>2.0</td>\n",
       "    </tr>\n",
       "    <tr>\n",
       "      <th>1</th>\n",
       "      <td>93.54</td>\n",
       "      <td>1346</td>\n",
       "      <td>Under Construction</td>\n",
       "      <td>3</td>\n",
       "      <td>2.0</td>\n",
       "      <td>0.0</td>\n",
       "      <td>Selaiyur</td>\n",
       "      <td>DAC Promoters</td>\n",
       "      <td>2.0</td>\n",
       "    </tr>\n",
       "    <tr>\n",
       "      <th>2</th>\n",
       "      <td>151.00</td>\n",
       "      <td>2225</td>\n",
       "      <td>Under Construction</td>\n",
       "      <td>3</td>\n",
       "      <td>-1.0</td>\n",
       "      <td>0.0</td>\n",
       "      <td>Mogappair</td>\n",
       "      <td>Casagrand Builder Private Limited</td>\n",
       "      <td>3.0</td>\n",
       "    </tr>\n",
       "    <tr>\n",
       "      <th>3</th>\n",
       "      <td>49.00</td>\n",
       "      <td>1028</td>\n",
       "      <td>Ready to move</td>\n",
       "      <td>2</td>\n",
       "      <td>2.0</td>\n",
       "      <td>3.0</td>\n",
       "      <td>Ambattur</td>\n",
       "      <td>Dugar Housing Builders</td>\n",
       "      <td>2.0</td>\n",
       "    </tr>\n",
       "    <tr>\n",
       "      <th>4</th>\n",
       "      <td>42.28</td>\n",
       "      <td>588</td>\n",
       "      <td>Under Construction</td>\n",
       "      <td>2</td>\n",
       "      <td>1.0</td>\n",
       "      <td>0.0</td>\n",
       "      <td>Pallavaram</td>\n",
       "      <td>Radiance Realty Developers India Ltd</td>\n",
       "      <td>1.0</td>\n",
       "    </tr>\n",
       "    <tr>\n",
       "      <th>...</th>\n",
       "      <td>...</td>\n",
       "      <td>...</td>\n",
       "      <td>...</td>\n",
       "      <td>...</td>\n",
       "      <td>...</td>\n",
       "      <td>...</td>\n",
       "      <td>...</td>\n",
       "      <td>...</td>\n",
       "      <td>...</td>\n",
       "    </tr>\n",
       "    <tr>\n",
       "      <th>2615</th>\n",
       "      <td>27.50</td>\n",
       "      <td>750</td>\n",
       "      <td>Ready to move</td>\n",
       "      <td>2</td>\n",
       "      <td>2.0</td>\n",
       "      <td>3.0</td>\n",
       "      <td>Veppampattu</td>\n",
       "      <td>Velan Housing Properties</td>\n",
       "      <td>2.0</td>\n",
       "    </tr>\n",
       "    <tr>\n",
       "      <th>2616</th>\n",
       "      <td>27.50</td>\n",
       "      <td>750</td>\n",
       "      <td>Ready to move</td>\n",
       "      <td>2</td>\n",
       "      <td>2.0</td>\n",
       "      <td>3.0</td>\n",
       "      <td>Veppampattu</td>\n",
       "      <td>Velan Housing Properties</td>\n",
       "      <td>2.0</td>\n",
       "    </tr>\n",
       "    <tr>\n",
       "      <th>2617</th>\n",
       "      <td>30.00</td>\n",
       "      <td>800</td>\n",
       "      <td>Ready to move</td>\n",
       "      <td>2</td>\n",
       "      <td>2.0</td>\n",
       "      <td>3.0</td>\n",
       "      <td>Veppampattu</td>\n",
       "      <td>Velan Housing Properties</td>\n",
       "      <td>2.0</td>\n",
       "    </tr>\n",
       "    <tr>\n",
       "      <th>2618</th>\n",
       "      <td>31.50</td>\n",
       "      <td>850</td>\n",
       "      <td>Ready to move</td>\n",
       "      <td>2</td>\n",
       "      <td>2.0</td>\n",
       "      <td>3.0</td>\n",
       "      <td>Veppampattu</td>\n",
       "      <td>Velan Housing Properties</td>\n",
       "      <td>2.0</td>\n",
       "    </tr>\n",
       "    <tr>\n",
       "      <th>2619</th>\n",
       "      <td>34.00</td>\n",
       "      <td>900</td>\n",
       "      <td>Ready to move</td>\n",
       "      <td>2</td>\n",
       "      <td>2.0</td>\n",
       "      <td>3.0</td>\n",
       "      <td>Veppampattu</td>\n",
       "      <td>Velan Housing Properties</td>\n",
       "      <td>2.0</td>\n",
       "    </tr>\n",
       "  </tbody>\n",
       "</table>\n",
       "<p>2620 rows × 9 columns</p>\n",
       "</div>"
      ],
      "text/plain": [
       "       price  area              status  bhk  bathroom  age     location  \\\n",
       "0      37.49   872       Ready to move    2      -1.0  1.0    Sembakkam   \n",
       "1      93.54  1346  Under Construction    3       2.0  0.0     Selaiyur   \n",
       "2     151.00  2225  Under Construction    3      -1.0  0.0    Mogappair   \n",
       "3      49.00  1028       Ready to move    2       2.0  3.0     Ambattur   \n",
       "4      42.28   588  Under Construction    2       1.0  0.0   Pallavaram   \n",
       "...      ...   ...                 ...  ...       ...  ...          ...   \n",
       "2615   27.50   750       Ready to move    2       2.0  3.0  Veppampattu   \n",
       "2616   27.50   750       Ready to move    2       2.0  3.0  Veppampattu   \n",
       "2617   30.00   800       Ready to move    2       2.0  3.0  Veppampattu   \n",
       "2618   31.50   850       Ready to move    2       2.0  3.0  Veppampattu   \n",
       "2619   34.00   900       Ready to move    2       2.0  3.0  Veppampattu   \n",
       "\n",
       "                                   builder  bath  \n",
       "0                            MP Developers   2.0  \n",
       "1                            DAC Promoters   2.0  \n",
       "2        Casagrand Builder Private Limited   3.0  \n",
       "3                   Dugar Housing Builders   2.0  \n",
       "4     Radiance Realty Developers India Ltd   1.0  \n",
       "...                                    ...   ...  \n",
       "2615              Velan Housing Properties   2.0  \n",
       "2616              Velan Housing Properties   2.0  \n",
       "2617              Velan Housing Properties   2.0  \n",
       "2618              Velan Housing Properties   2.0  \n",
       "2619              Velan Housing Properties   2.0  \n",
       "\n",
       "[2620 rows x 9 columns]"
      ]
     },
     "execution_count": 23,
     "metadata": {},
     "output_type": "execute_result"
    }
   ],
   "source": [
    "dataset"
   ]
  },
  {
   "cell_type": "code",
   "execution_count": 24,
   "id": "60d6fef9",
   "metadata": {},
   "outputs": [],
   "source": [
    "data=dataset.drop(columns='bathroom')"
   ]
  },
  {
   "cell_type": "code",
   "execution_count": null,
   "id": "df4332a5",
   "metadata": {},
   "outputs": [],
   "source": []
  },
  {
   "cell_type": "code",
   "execution_count": 25,
   "id": "59f08a95",
   "metadata": {},
   "outputs": [
    {
     "data": {
      "text/html": [
       "<div>\n",
       "<style scoped>\n",
       "    .dataframe tbody tr th:only-of-type {\n",
       "        vertical-align: middle;\n",
       "    }\n",
       "\n",
       "    .dataframe tbody tr th {\n",
       "        vertical-align: top;\n",
       "    }\n",
       "\n",
       "    .dataframe thead th {\n",
       "        text-align: right;\n",
       "    }\n",
       "</style>\n",
       "<table border=\"1\" class=\"dataframe\">\n",
       "  <thead>\n",
       "    <tr style=\"text-align: right;\">\n",
       "      <th></th>\n",
       "      <th>price</th>\n",
       "      <th>area</th>\n",
       "      <th>status</th>\n",
       "      <th>bhk</th>\n",
       "      <th>age</th>\n",
       "      <th>location</th>\n",
       "      <th>builder</th>\n",
       "      <th>bath</th>\n",
       "    </tr>\n",
       "  </thead>\n",
       "  <tbody>\n",
       "    <tr>\n",
       "      <th>0</th>\n",
       "      <td>37.49</td>\n",
       "      <td>872</td>\n",
       "      <td>Ready to move</td>\n",
       "      <td>2</td>\n",
       "      <td>1.0</td>\n",
       "      <td>Sembakkam</td>\n",
       "      <td>MP Developers</td>\n",
       "      <td>2.0</td>\n",
       "    </tr>\n",
       "    <tr>\n",
       "      <th>1</th>\n",
       "      <td>93.54</td>\n",
       "      <td>1346</td>\n",
       "      <td>Under Construction</td>\n",
       "      <td>3</td>\n",
       "      <td>0.0</td>\n",
       "      <td>Selaiyur</td>\n",
       "      <td>DAC Promoters</td>\n",
       "      <td>2.0</td>\n",
       "    </tr>\n",
       "    <tr>\n",
       "      <th>2</th>\n",
       "      <td>151.00</td>\n",
       "      <td>2225</td>\n",
       "      <td>Under Construction</td>\n",
       "      <td>3</td>\n",
       "      <td>0.0</td>\n",
       "      <td>Mogappair</td>\n",
       "      <td>Casagrand Builder Private Limited</td>\n",
       "      <td>3.0</td>\n",
       "    </tr>\n",
       "    <tr>\n",
       "      <th>3</th>\n",
       "      <td>49.00</td>\n",
       "      <td>1028</td>\n",
       "      <td>Ready to move</td>\n",
       "      <td>2</td>\n",
       "      <td>3.0</td>\n",
       "      <td>Ambattur</td>\n",
       "      <td>Dugar Housing Builders</td>\n",
       "      <td>2.0</td>\n",
       "    </tr>\n",
       "    <tr>\n",
       "      <th>4</th>\n",
       "      <td>42.28</td>\n",
       "      <td>588</td>\n",
       "      <td>Under Construction</td>\n",
       "      <td>2</td>\n",
       "      <td>0.0</td>\n",
       "      <td>Pallavaram</td>\n",
       "      <td>Radiance Realty Developers India Ltd</td>\n",
       "      <td>1.0</td>\n",
       "    </tr>\n",
       "    <tr>\n",
       "      <th>...</th>\n",
       "      <td>...</td>\n",
       "      <td>...</td>\n",
       "      <td>...</td>\n",
       "      <td>...</td>\n",
       "      <td>...</td>\n",
       "      <td>...</td>\n",
       "      <td>...</td>\n",
       "      <td>...</td>\n",
       "    </tr>\n",
       "    <tr>\n",
       "      <th>2615</th>\n",
       "      <td>27.50</td>\n",
       "      <td>750</td>\n",
       "      <td>Ready to move</td>\n",
       "      <td>2</td>\n",
       "      <td>3.0</td>\n",
       "      <td>Veppampattu</td>\n",
       "      <td>Velan Housing Properties</td>\n",
       "      <td>2.0</td>\n",
       "    </tr>\n",
       "    <tr>\n",
       "      <th>2616</th>\n",
       "      <td>27.50</td>\n",
       "      <td>750</td>\n",
       "      <td>Ready to move</td>\n",
       "      <td>2</td>\n",
       "      <td>3.0</td>\n",
       "      <td>Veppampattu</td>\n",
       "      <td>Velan Housing Properties</td>\n",
       "      <td>2.0</td>\n",
       "    </tr>\n",
       "    <tr>\n",
       "      <th>2617</th>\n",
       "      <td>30.00</td>\n",
       "      <td>800</td>\n",
       "      <td>Ready to move</td>\n",
       "      <td>2</td>\n",
       "      <td>3.0</td>\n",
       "      <td>Veppampattu</td>\n",
       "      <td>Velan Housing Properties</td>\n",
       "      <td>2.0</td>\n",
       "    </tr>\n",
       "    <tr>\n",
       "      <th>2618</th>\n",
       "      <td>31.50</td>\n",
       "      <td>850</td>\n",
       "      <td>Ready to move</td>\n",
       "      <td>2</td>\n",
       "      <td>3.0</td>\n",
       "      <td>Veppampattu</td>\n",
       "      <td>Velan Housing Properties</td>\n",
       "      <td>2.0</td>\n",
       "    </tr>\n",
       "    <tr>\n",
       "      <th>2619</th>\n",
       "      <td>34.00</td>\n",
       "      <td>900</td>\n",
       "      <td>Ready to move</td>\n",
       "      <td>2</td>\n",
       "      <td>3.0</td>\n",
       "      <td>Veppampattu</td>\n",
       "      <td>Velan Housing Properties</td>\n",
       "      <td>2.0</td>\n",
       "    </tr>\n",
       "  </tbody>\n",
       "</table>\n",
       "<p>2620 rows × 8 columns</p>\n",
       "</div>"
      ],
      "text/plain": [
       "       price  area              status  bhk  age     location  \\\n",
       "0      37.49   872       Ready to move    2  1.0    Sembakkam   \n",
       "1      93.54  1346  Under Construction    3  0.0     Selaiyur   \n",
       "2     151.00  2225  Under Construction    3  0.0    Mogappair   \n",
       "3      49.00  1028       Ready to move    2  3.0     Ambattur   \n",
       "4      42.28   588  Under Construction    2  0.0   Pallavaram   \n",
       "...      ...   ...                 ...  ...  ...          ...   \n",
       "2615   27.50   750       Ready to move    2  3.0  Veppampattu   \n",
       "2616   27.50   750       Ready to move    2  3.0  Veppampattu   \n",
       "2617   30.00   800       Ready to move    2  3.0  Veppampattu   \n",
       "2618   31.50   850       Ready to move    2  3.0  Veppampattu   \n",
       "2619   34.00   900       Ready to move    2  3.0  Veppampattu   \n",
       "\n",
       "                                   builder  bath  \n",
       "0                            MP Developers   2.0  \n",
       "1                            DAC Promoters   2.0  \n",
       "2        Casagrand Builder Private Limited   3.0  \n",
       "3                   Dugar Housing Builders   2.0  \n",
       "4     Radiance Realty Developers India Ltd   1.0  \n",
       "...                                    ...   ...  \n",
       "2615              Velan Housing Properties   2.0  \n",
       "2616              Velan Housing Properties   2.0  \n",
       "2617              Velan Housing Properties   2.0  \n",
       "2618              Velan Housing Properties   2.0  \n",
       "2619              Velan Housing Properties   2.0  \n",
       "\n",
       "[2620 rows x 8 columns]"
      ]
     },
     "execution_count": 25,
     "metadata": {},
     "output_type": "execute_result"
    }
   ],
   "source": [
    "data"
   ]
  },
  {
   "cell_type": "code",
   "execution_count": 26,
   "id": "34f8594e",
   "metadata": {},
   "outputs": [
    {
     "name": "stdout",
     "output_type": "stream",
     "text": [
      "<class 'pandas.core.frame.DataFrame'>\n",
      "RangeIndex: 2620 entries, 0 to 2619\n",
      "Data columns (total 8 columns):\n",
      " #   Column    Non-Null Count  Dtype  \n",
      "---  ------    --------------  -----  \n",
      " 0   price     2620 non-null   float64\n",
      " 1   area      2620 non-null   int64  \n",
      " 2   status    2620 non-null   object \n",
      " 3   bhk       2620 non-null   int64  \n",
      " 4   age       2620 non-null   float64\n",
      " 5   location  2620 non-null   object \n",
      " 6   builder   2620 non-null   object \n",
      " 7   bath      2620 non-null   float64\n",
      "dtypes: float64(3), int64(2), object(3)\n",
      "memory usage: 163.9+ KB\n"
     ]
    }
   ],
   "source": [
    "data.info()"
   ]
  },
  {
   "cell_type": "code",
   "execution_count": 27,
   "id": "05881942",
   "metadata": {
    "scrolled": true
   },
   "outputs": [
    {
     "data": {
      "text/html": [
       "<div>\n",
       "<style scoped>\n",
       "    .dataframe tbody tr th:only-of-type {\n",
       "        vertical-align: middle;\n",
       "    }\n",
       "\n",
       "    .dataframe tbody tr th {\n",
       "        vertical-align: top;\n",
       "    }\n",
       "\n",
       "    .dataframe thead th {\n",
       "        text-align: right;\n",
       "    }\n",
       "</style>\n",
       "<table border=\"1\" class=\"dataframe\">\n",
       "  <thead>\n",
       "    <tr style=\"text-align: right;\">\n",
       "      <th></th>\n",
       "      <th>price</th>\n",
       "      <th>area</th>\n",
       "      <th>bhk</th>\n",
       "      <th>age</th>\n",
       "      <th>bath</th>\n",
       "    </tr>\n",
       "  </thead>\n",
       "  <tbody>\n",
       "    <tr>\n",
       "      <th>count</th>\n",
       "      <td>2620.000000</td>\n",
       "      <td>2620.000000</td>\n",
       "      <td>2620.000000</td>\n",
       "      <td>2620.000000</td>\n",
       "      <td>2620.000000</td>\n",
       "    </tr>\n",
       "    <tr>\n",
       "      <th>mean</th>\n",
       "      <td>93.834683</td>\n",
       "      <td>1282.925191</td>\n",
       "      <td>2.443893</td>\n",
       "      <td>0.894275</td>\n",
       "      <td>2.419466</td>\n",
       "    </tr>\n",
       "    <tr>\n",
       "      <th>std</th>\n",
       "      <td>113.609349</td>\n",
       "      <td>692.566319</td>\n",
       "      <td>0.811984</td>\n",
       "      <td>1.824666</td>\n",
       "      <td>0.819299</td>\n",
       "    </tr>\n",
       "    <tr>\n",
       "      <th>min</th>\n",
       "      <td>12.830000</td>\n",
       "      <td>300.000000</td>\n",
       "      <td>1.000000</td>\n",
       "      <td>0.000000</td>\n",
       "      <td>1.000000</td>\n",
       "    </tr>\n",
       "    <tr>\n",
       "      <th>25%</th>\n",
       "      <td>42.000000</td>\n",
       "      <td>877.000000</td>\n",
       "      <td>2.000000</td>\n",
       "      <td>0.000000</td>\n",
       "      <td>2.000000</td>\n",
       "    </tr>\n",
       "    <tr>\n",
       "      <th>50%</th>\n",
       "      <td>61.735000</td>\n",
       "      <td>1091.500000</td>\n",
       "      <td>2.000000</td>\n",
       "      <td>0.000000</td>\n",
       "      <td>2.000000</td>\n",
       "    </tr>\n",
       "    <tr>\n",
       "      <th>75%</th>\n",
       "      <td>90.000000</td>\n",
       "      <td>1471.250000</td>\n",
       "      <td>3.000000</td>\n",
       "      <td>1.000000</td>\n",
       "      <td>3.000000</td>\n",
       "    </tr>\n",
       "    <tr>\n",
       "      <th>max</th>\n",
       "      <td>1422.000000</td>\n",
       "      <td>6700.000000</td>\n",
       "      <td>8.000000</td>\n",
       "      <td>32.000000</td>\n",
       "      <td>7.000000</td>\n",
       "    </tr>\n",
       "  </tbody>\n",
       "</table>\n",
       "</div>"
      ],
      "text/plain": [
       "             price         area          bhk          age         bath\n",
       "count  2620.000000  2620.000000  2620.000000  2620.000000  2620.000000\n",
       "mean     93.834683  1282.925191     2.443893     0.894275     2.419466\n",
       "std     113.609349   692.566319     0.811984     1.824666     0.819299\n",
       "min      12.830000   300.000000     1.000000     0.000000     1.000000\n",
       "25%      42.000000   877.000000     2.000000     0.000000     2.000000\n",
       "50%      61.735000  1091.500000     2.000000     0.000000     2.000000\n",
       "75%      90.000000  1471.250000     3.000000     1.000000     3.000000\n",
       "max    1422.000000  6700.000000     8.000000    32.000000     7.000000"
      ]
     },
     "execution_count": 27,
     "metadata": {},
     "output_type": "execute_result"
    }
   ],
   "source": [
    "data.describe()"
   ]
  },
  {
   "cell_type": "code",
   "execution_count": 28,
   "id": "d3b5ef85",
   "metadata": {},
   "outputs": [
    {
     "data": {
      "text/plain": [
       "3"
      ]
     },
     "execution_count": 28,
     "metadata": {},
     "output_type": "execute_result"
    }
   ],
   "source": [
    "data[data.price >= 1222.000000].value_counts().sum()"
   ]
  },
  {
   "cell_type": "code",
   "execution_count": 29,
   "id": "0b7a4652",
   "metadata": {},
   "outputs": [
    {
     "data": {
      "text/html": [
       "<div>\n",
       "<style scoped>\n",
       "    .dataframe tbody tr th:only-of-type {\n",
       "        vertical-align: middle;\n",
       "    }\n",
       "\n",
       "    .dataframe tbody tr th {\n",
       "        vertical-align: top;\n",
       "    }\n",
       "\n",
       "    .dataframe thead th {\n",
       "        text-align: right;\n",
       "    }\n",
       "</style>\n",
       "<table border=\"1\" class=\"dataframe\">\n",
       "  <thead>\n",
       "    <tr style=\"text-align: right;\">\n",
       "      <th></th>\n",
       "      <th>price</th>\n",
       "      <th>area</th>\n",
       "      <th>status</th>\n",
       "      <th>bhk</th>\n",
       "      <th>age</th>\n",
       "      <th>location</th>\n",
       "      <th>builder</th>\n",
       "      <th>bath</th>\n",
       "    </tr>\n",
       "  </thead>\n",
       "  <tbody>\n",
       "    <tr>\n",
       "      <th>1475</th>\n",
       "      <td>1422.0</td>\n",
       "      <td>6617</td>\n",
       "      <td>Ready to move</td>\n",
       "      <td>5</td>\n",
       "      <td>2.0</td>\n",
       "      <td>Royapettah</td>\n",
       "      <td>Vinay Asrani</td>\n",
       "      <td>6.0</td>\n",
       "    </tr>\n",
       "    <tr>\n",
       "      <th>2125</th>\n",
       "      <td>430.0</td>\n",
       "      <td>6700</td>\n",
       "      <td>Ready to move</td>\n",
       "      <td>4</td>\n",
       "      <td>0.0</td>\n",
       "      <td>Kovalam</td>\n",
       "      <td>HomeFirst</td>\n",
       "      <td>4.0</td>\n",
       "    </tr>\n",
       "  </tbody>\n",
       "</table>\n",
       "</div>"
      ],
      "text/plain": [
       "       price  area         status  bhk  age    location       builder  bath\n",
       "1475  1422.0  6617  Ready to move    5  2.0  Royapettah  Vinay Asrani   6.0\n",
       "2125   430.0  6700  Ready to move    4  0.0     Kovalam     HomeFirst   4.0"
      ]
     },
     "execution_count": 29,
     "metadata": {},
     "output_type": "execute_result"
    }
   ],
   "source": [
    "data[data['area'] >= 6600]\n",
    "#data[data[\"price\"] >= 1400]"
   ]
  },
  {
   "cell_type": "code",
   "execution_count": 30,
   "id": "1ac4a6f0",
   "metadata": {},
   "outputs": [
    {
     "data": {
      "text/html": [
       "<div>\n",
       "<style scoped>\n",
       "    .dataframe tbody tr th:only-of-type {\n",
       "        vertical-align: middle;\n",
       "    }\n",
       "\n",
       "    .dataframe tbody tr th {\n",
       "        vertical-align: top;\n",
       "    }\n",
       "\n",
       "    .dataframe thead th {\n",
       "        text-align: right;\n",
       "    }\n",
       "</style>\n",
       "<table border=\"1\" class=\"dataframe\">\n",
       "  <thead>\n",
       "    <tr style=\"text-align: right;\">\n",
       "      <th></th>\n",
       "      <th>price</th>\n",
       "      <th>area</th>\n",
       "      <th>status</th>\n",
       "      <th>bhk</th>\n",
       "      <th>age</th>\n",
       "      <th>location</th>\n",
       "      <th>builder</th>\n",
       "      <th>bath</th>\n",
       "    </tr>\n",
       "  </thead>\n",
       "  <tbody>\n",
       "    <tr>\n",
       "      <th>1857</th>\n",
       "      <td>490.0</td>\n",
       "      <td>4500</td>\n",
       "      <td>Ready to move</td>\n",
       "      <td>8</td>\n",
       "      <td>0.0</td>\n",
       "      <td>Royapettah</td>\n",
       "      <td>seller</td>\n",
       "      <td>6.0</td>\n",
       "    </tr>\n",
       "    <tr>\n",
       "      <th>1900</th>\n",
       "      <td>490.0</td>\n",
       "      <td>4500</td>\n",
       "      <td>Ready to move</td>\n",
       "      <td>8</td>\n",
       "      <td>0.0</td>\n",
       "      <td>Royapettah</td>\n",
       "      <td>seller</td>\n",
       "      <td>6.0</td>\n",
       "    </tr>\n",
       "  </tbody>\n",
       "</table>\n",
       "</div>"
      ],
      "text/plain": [
       "      price  area         status  bhk  age    location builder  bath\n",
       "1857  490.0  4500  Ready to move    8  0.0  Royapettah  seller   6.0\n",
       "1900  490.0  4500  Ready to move    8  0.0  Royapettah  seller   6.0"
      ]
     },
     "execution_count": 30,
     "metadata": {},
     "output_type": "execute_result"
    }
   ],
   "source": [
    "data[data[\"bhk\"] ==8]"
   ]
  },
  {
   "cell_type": "code",
   "execution_count": null,
   "id": "f6bcd1d8",
   "metadata": {},
   "outputs": [],
   "source": []
  },
  {
   "cell_type": "code",
   "execution_count": 31,
   "id": "92cc4a81",
   "metadata": {},
   "outputs": [
    {
     "data": {
      "text/plain": [
       "count    2620.000000\n",
       "mean      517.649752\n",
       "std       147.914705\n",
       "min       250.000000\n",
       "25%       427.625000\n",
       "50%       499.583333\n",
       "75%       579.125000\n",
       "max      1675.000000\n",
       "dtype: float64"
      ]
     },
     "execution_count": 31,
     "metadata": {},
     "output_type": "execute_result"
    }
   ],
   "source": [
    "(data['area'] / data['bhk']).describe()"
   ]
  },
  {
   "cell_type": "code",
   "execution_count": null,
   "id": "ac97e555",
   "metadata": {},
   "outputs": [],
   "source": []
  },
  {
   "cell_type": "code",
   "execution_count": 32,
   "id": "33828287",
   "metadata": {},
   "outputs": [
    {
     "data": {
      "text/html": [
       "<div>\n",
       "<style scoped>\n",
       "    .dataframe tbody tr th:only-of-type {\n",
       "        vertical-align: middle;\n",
       "    }\n",
       "\n",
       "    .dataframe tbody tr th {\n",
       "        vertical-align: top;\n",
       "    }\n",
       "\n",
       "    .dataframe thead th {\n",
       "        text-align: right;\n",
       "    }\n",
       "</style>\n",
       "<table border=\"1\" class=\"dataframe\">\n",
       "  <thead>\n",
       "    <tr style=\"text-align: right;\">\n",
       "      <th></th>\n",
       "      <th>price</th>\n",
       "      <th>area</th>\n",
       "      <th>bhk</th>\n",
       "      <th>age</th>\n",
       "      <th>bath</th>\n",
       "    </tr>\n",
       "  </thead>\n",
       "  <tbody>\n",
       "    <tr>\n",
       "      <th>price</th>\n",
       "      <td>1.000000</td>\n",
       "      <td>0.823508</td>\n",
       "      <td>0.617898</td>\n",
       "      <td>-0.003029</td>\n",
       "      <td>0.625088</td>\n",
       "    </tr>\n",
       "    <tr>\n",
       "      <th>area</th>\n",
       "      <td>0.823508</td>\n",
       "      <td>1.000000</td>\n",
       "      <td>0.785474</td>\n",
       "      <td>0.011955</td>\n",
       "      <td>0.783676</td>\n",
       "    </tr>\n",
       "    <tr>\n",
       "      <th>bhk</th>\n",
       "      <td>0.617898</td>\n",
       "      <td>0.785474</td>\n",
       "      <td>1.000000</td>\n",
       "      <td>-0.035833</td>\n",
       "      <td>0.911526</td>\n",
       "    </tr>\n",
       "    <tr>\n",
       "      <th>age</th>\n",
       "      <td>-0.003029</td>\n",
       "      <td>0.011955</td>\n",
       "      <td>-0.035833</td>\n",
       "      <td>1.000000</td>\n",
       "      <td>-0.011189</td>\n",
       "    </tr>\n",
       "    <tr>\n",
       "      <th>bath</th>\n",
       "      <td>0.625088</td>\n",
       "      <td>0.783676</td>\n",
       "      <td>0.911526</td>\n",
       "      <td>-0.011189</td>\n",
       "      <td>1.000000</td>\n",
       "    </tr>\n",
       "  </tbody>\n",
       "</table>\n",
       "</div>"
      ],
      "text/plain": [
       "          price      area       bhk       age      bath\n",
       "price  1.000000  0.823508  0.617898 -0.003029  0.625088\n",
       "area   0.823508  1.000000  0.785474  0.011955  0.783676\n",
       "bhk    0.617898  0.785474  1.000000 -0.035833  0.911526\n",
       "age   -0.003029  0.011955 -0.035833  1.000000 -0.011189\n",
       "bath   0.625088  0.783676  0.911526 -0.011189  1.000000"
      ]
     },
     "execution_count": 32,
     "metadata": {},
     "output_type": "execute_result"
    }
   ],
   "source": [
    "data.corr()"
   ]
  },
  {
   "cell_type": "code",
   "execution_count": 33,
   "id": "96ca3b64",
   "metadata": {},
   "outputs": [
    {
     "data": {
      "text/plain": [
       "<seaborn.axisgrid.PairGrid at 0x2592be71ca0>"
      ]
     },
     "execution_count": 33,
     "metadata": {},
     "output_type": "execute_result"
    },
    {
     "data": {
      "image/png": "[encoded data removed]",
      "text/plain": [
       "<Figure size 900x900 with 30 Axes>"
      ]
     },
     "metadata": {},
     "output_type": "display_data"
    }
   ],
   "source": [
    "sns.set_style(style='darkgrid')\n",
    "sns.pairplot(data)"
   ]
  },
  {
   "cell_type": "code",
   "execution_count": 34,
   "id": "f33e68cf",
   "metadata": {},
   "outputs": [],
   "source": [
    "data_count = data[\"location\"].value_counts()"
   ]
  },
  {
   "cell_type": "code",
   "execution_count": 35,
   "id": "9f3dcacc",
   "metadata": {},
   "outputs": [
    {
     "data": {
      "text/plain": [
       "Veppampattu            149\n",
       "Pammal                 139\n",
       "Medavakkam             111\n",
       "Sholinganallur          99\n",
       "Perungudi               88\n",
       "                      ... \n",
       "Thiruvidandhai           1\n",
       "Kumananchavadi           1\n",
       "K K Nagar                1\n",
       "Kolapakkam Vandalur      1\n",
       "Mannur                   1\n",
       "Name: location, Length: 178, dtype: int64"
      ]
     },
     "execution_count": 35,
     "metadata": {},
     "output_type": "execute_result"
    }
   ],
   "source": [
    "data_count"
   ]
  },
  {
   "cell_type": "code",
   "execution_count": 36,
   "id": "09ef6986",
   "metadata": {},
   "outputs": [
    {
     "data": {
      "text/plain": [
       "T Nagar                20\n",
       "Kotturpuram            20\n",
       "Sithalapakkam          20\n",
       "Koyambedu              19\n",
       "Rajakilpakkam          19\n",
       "                       ..\n",
       "Thiruvidandhai          1\n",
       "Kumananchavadi          1\n",
       "K K Nagar               1\n",
       "Kolapakkam Vandalur     1\n",
       "Mannur                  1\n",
       "Name: location, Length: 142, dtype: int64"
      ]
     },
     "execution_count": 36,
     "metadata": {},
     "output_type": "execute_result"
    }
   ],
   "source": [
    "location_count_less_10 = data_count[data_count <= 20]\n",
    "location_count_less_10"
   ]
  },
  {
   "cell_type": "code",
   "execution_count": 72,
   "id": "ca8e1ecf",
   "metadata": {},
   "outputs": [
    {
     "data": {
      "text/html": [
       "<div>\n",
       "<style scoped>\n",
       "    .dataframe tbody tr th:only-of-type {\n",
       "        vertical-align: middle;\n",
       "    }\n",
       "\n",
       "    .dataframe tbody tr th {\n",
       "        vertical-align: top;\n",
       "    }\n",
       "\n",
       "    .dataframe thead th {\n",
       "        text-align: right;\n",
       "    }\n",
       "</style>\n",
       "<table border=\"1\" class=\"dataframe\">\n",
       "  <thead>\n",
       "    <tr style=\"text-align: right;\">\n",
       "      <th></th>\n",
       "      <th>price</th>\n",
       "      <th>area</th>\n",
       "      <th>status</th>\n",
       "      <th>bhk</th>\n",
       "      <th>age</th>\n",
       "      <th>location</th>\n",
       "      <th>builder</th>\n",
       "      <th>bath</th>\n",
       "    </tr>\n",
       "  </thead>\n",
       "  <tbody>\n",
       "    <tr>\n",
       "      <th>count</th>\n",
       "      <td>2620.000000</td>\n",
       "      <td>2620.000000</td>\n",
       "      <td>2620.000000</td>\n",
       "      <td>2620.000000</td>\n",
       "      <td>2620.000000</td>\n",
       "      <td>2620.000000</td>\n",
       "      <td>2620.000000</td>\n",
       "      <td>2620.000000</td>\n",
       "    </tr>\n",
       "    <tr>\n",
       "      <th>mean</th>\n",
       "      <td>93.834683</td>\n",
       "      <td>1282.925191</td>\n",
       "      <td>0.432443</td>\n",
       "      <td>2.443893</td>\n",
       "      <td>0.894275</td>\n",
       "      <td>23.592366</td>\n",
       "      <td>70.440076</td>\n",
       "      <td>2.419466</td>\n",
       "    </tr>\n",
       "    <tr>\n",
       "      <th>std</th>\n",
       "      <td>113.609349</td>\n",
       "      <td>692.566319</td>\n",
       "      <td>0.495510</td>\n",
       "      <td>0.811984</td>\n",
       "      <td>1.824666</td>\n",
       "      <td>11.752517</td>\n",
       "      <td>44.734018</td>\n",
       "      <td>0.819299</td>\n",
       "    </tr>\n",
       "    <tr>\n",
       "      <th>min</th>\n",
       "      <td>12.830000</td>\n",
       "      <td>300.000000</td>\n",
       "      <td>0.000000</td>\n",
       "      <td>1.000000</td>\n",
       "      <td>0.000000</td>\n",
       "      <td>0.000000</td>\n",
       "      <td>0.000000</td>\n",
       "      <td>1.000000</td>\n",
       "    </tr>\n",
       "    <tr>\n",
       "      <th>25%</th>\n",
       "      <td>42.000000</td>\n",
       "      <td>877.000000</td>\n",
       "      <td>0.000000</td>\n",
       "      <td>2.000000</td>\n",
       "      <td>0.000000</td>\n",
       "      <td>13.000000</td>\n",
       "      <td>31.750000</td>\n",
       "      <td>2.000000</td>\n",
       "    </tr>\n",
       "    <tr>\n",
       "      <th>50%</th>\n",
       "      <td>61.735000</td>\n",
       "      <td>1091.500000</td>\n",
       "      <td>0.000000</td>\n",
       "      <td>2.000000</td>\n",
       "      <td>0.000000</td>\n",
       "      <td>26.000000</td>\n",
       "      <td>63.500000</td>\n",
       "      <td>2.000000</td>\n",
       "    </tr>\n",
       "    <tr>\n",
       "      <th>75%</th>\n",
       "      <td>90.000000</td>\n",
       "      <td>1471.250000</td>\n",
       "      <td>1.000000</td>\n",
       "      <td>3.000000</td>\n",
       "      <td>1.000000</td>\n",
       "      <td>36.000000</td>\n",
       "      <td>116.250000</td>\n",
       "      <td>3.000000</td>\n",
       "    </tr>\n",
       "    <tr>\n",
       "      <th>max</th>\n",
       "      <td>1422.000000</td>\n",
       "      <td>6700.000000</td>\n",
       "      <td>1.000000</td>\n",
       "      <td>8.000000</td>\n",
       "      <td>32.000000</td>\n",
       "      <td>36.000000</td>\n",
       "      <td>134.000000</td>\n",
       "      <td>7.000000</td>\n",
       "    </tr>\n",
       "  </tbody>\n",
       "</table>\n",
       "</div>"
      ],
      "text/plain": [
       "             price         area       status          bhk          age  \\\n",
       "count  2620.000000  2620.000000  2620.000000  2620.000000  2620.000000   \n",
       "mean     93.834683  1282.925191     0.432443     2.443893     0.894275   \n",
       "std     113.609349   692.566319     0.495510     0.811984     1.824666   \n",
       "min      12.830000   300.000000     0.000000     1.000000     0.000000   \n",
       "25%      42.000000   877.000000     0.000000     2.000000     0.000000   \n",
       "50%      61.735000  1091.500000     0.000000     2.000000     0.000000   \n",
       "75%      90.000000  1471.250000     1.000000     3.000000     1.000000   \n",
       "max    1422.000000  6700.000000     1.000000     8.000000    32.000000   \n",
       "\n",
       "          location      builder         bath  \n",
       "count  2620.000000  2620.000000  2620.000000  \n",
       "mean     23.592366    70.440076     2.419466  \n",
       "std      11.752517    44.734018     0.819299  \n",
       "min       0.000000     0.000000     1.000000  \n",
       "25%      13.000000    31.750000     2.000000  \n",
       "50%      26.000000    63.500000     2.000000  \n",
       "75%      36.000000   116.250000     3.000000  \n",
       "max      36.000000   134.000000     7.000000  "
      ]
     },
     "execution_count": 72,
     "metadata": {},
     "output_type": "execute_result"
    }
   ],
   "source": [
    "data.describe()"
   ]
  },
  {
   "cell_type": "code",
   "execution_count": 37,
   "id": "afd3784f",
   "metadata": {},
   "outputs": [],
   "source": [
    "data['location'] = data['location'].apply(lambda x:'other' if x in location_count_less_10 else x)"
   ]
  },
  {
   "cell_type": "code",
   "execution_count": 38,
   "id": "e90a217a",
   "metadata": {},
   "outputs": [
    {
     "data": {
      "text/plain": [
       "<bound method Series.unique of other               777\n",
       "Veppampattu         149\n",
       "Pammal              139\n",
       "Medavakkam          111\n",
       "Sholinganallur       99\n",
       "Perungudi            88\n",
       "Selaiyur             82\n",
       "Madhavaram           81\n",
       "Chromepet            79\n",
       "Kelambakkam          70\n",
       "Perumbakkam          62\n",
       "Sembakkam            61\n",
       "Perungalathur        59\n",
       "East Tambaram        49\n",
       "West Mambalam        47\n",
       "Kolapakkam           44\n",
       "Thirumullaivoyal     44\n",
       "Madipakkam           40\n",
       "Kolathur             37\n",
       "Pallavaram           37\n",
       "Porur                37\n",
       "Iyyappanthangal      36\n",
       "Ambattur             34\n",
       "Vanagaram            33\n",
       "Mogappair            30\n",
       "Tiruvottiyur         30\n",
       "Vadanemmeli          28\n",
       "Karapakkam           27\n",
       "Padur                26\n",
       "Poonamallee          25\n",
       "Anna Nagar           25\n",
       "Vadapalani           24\n",
       "Royapettah           24\n",
       "Madambakkam          23\n",
       "Kovur                21\n",
       "Thaiyur              21\n",
       "Nanmangalam          21\n",
       "Name: location, dtype: int64>"
      ]
     },
     "execution_count": 38,
     "metadata": {},
     "output_type": "execute_result"
    }
   ],
   "source": [
    "data['location'].value_counts().unique"
   ]
  },
  {
   "cell_type": "code",
   "execution_count": 39,
   "id": "ab20ed76",
   "metadata": {},
   "outputs": [
    {
     "data": {
      "text/html": [
       "<div>\n",
       "<style scoped>\n",
       "    .dataframe tbody tr th:only-of-type {\n",
       "        vertical-align: middle;\n",
       "    }\n",
       "\n",
       "    .dataframe tbody tr th {\n",
       "        vertical-align: top;\n",
       "    }\n",
       "\n",
       "    .dataframe thead th {\n",
       "        text-align: right;\n",
       "    }\n",
       "</style>\n",
       "<table border=\"1\" class=\"dataframe\">\n",
       "  <thead>\n",
       "    <tr style=\"text-align: right;\">\n",
       "      <th></th>\n",
       "      <th>price</th>\n",
       "      <th>area</th>\n",
       "      <th>status</th>\n",
       "      <th>bhk</th>\n",
       "      <th>age</th>\n",
       "      <th>location</th>\n",
       "      <th>builder</th>\n",
       "      <th>bath</th>\n",
       "    </tr>\n",
       "  </thead>\n",
       "  <tbody>\n",
       "    <tr>\n",
       "      <th>0</th>\n",
       "      <td>37.49</td>\n",
       "      <td>872</td>\n",
       "      <td>Ready to move</td>\n",
       "      <td>2</td>\n",
       "      <td>1.0</td>\n",
       "      <td>Sembakkam</td>\n",
       "      <td>MP Developers</td>\n",
       "      <td>2.0</td>\n",
       "    </tr>\n",
       "    <tr>\n",
       "      <th>1</th>\n",
       "      <td>93.54</td>\n",
       "      <td>1346</td>\n",
       "      <td>Under Construction</td>\n",
       "      <td>3</td>\n",
       "      <td>0.0</td>\n",
       "      <td>Selaiyur</td>\n",
       "      <td>DAC Promoters</td>\n",
       "      <td>2.0</td>\n",
       "    </tr>\n",
       "    <tr>\n",
       "      <th>2</th>\n",
       "      <td>151.00</td>\n",
       "      <td>2225</td>\n",
       "      <td>Under Construction</td>\n",
       "      <td>3</td>\n",
       "      <td>0.0</td>\n",
       "      <td>Mogappair</td>\n",
       "      <td>Casagrand Builder Private Limited</td>\n",
       "      <td>3.0</td>\n",
       "    </tr>\n",
       "    <tr>\n",
       "      <th>3</th>\n",
       "      <td>49.00</td>\n",
       "      <td>1028</td>\n",
       "      <td>Ready to move</td>\n",
       "      <td>2</td>\n",
       "      <td>3.0</td>\n",
       "      <td>Ambattur</td>\n",
       "      <td>Dugar Housing Builders</td>\n",
       "      <td>2.0</td>\n",
       "    </tr>\n",
       "    <tr>\n",
       "      <th>4</th>\n",
       "      <td>42.28</td>\n",
       "      <td>588</td>\n",
       "      <td>Under Construction</td>\n",
       "      <td>2</td>\n",
       "      <td>0.0</td>\n",
       "      <td>Pallavaram</td>\n",
       "      <td>Radiance Realty Developers India Ltd</td>\n",
       "      <td>1.0</td>\n",
       "    </tr>\n",
       "    <tr>\n",
       "      <th>...</th>\n",
       "      <td>...</td>\n",
       "      <td>...</td>\n",
       "      <td>...</td>\n",
       "      <td>...</td>\n",
       "      <td>...</td>\n",
       "      <td>...</td>\n",
       "      <td>...</td>\n",
       "      <td>...</td>\n",
       "    </tr>\n",
       "    <tr>\n",
       "      <th>2615</th>\n",
       "      <td>27.50</td>\n",
       "      <td>750</td>\n",
       "      <td>Ready to move</td>\n",
       "      <td>2</td>\n",
       "      <td>3.0</td>\n",
       "      <td>Veppampattu</td>\n",
       "      <td>Velan Housing Properties</td>\n",
       "      <td>2.0</td>\n",
       "    </tr>\n",
       "    <tr>\n",
       "      <th>2616</th>\n",
       "      <td>27.50</td>\n",
       "      <td>750</td>\n",
       "      <td>Ready to move</td>\n",
       "      <td>2</td>\n",
       "      <td>3.0</td>\n",
       "      <td>Veppampattu</td>\n",
       "      <td>Velan Housing Properties</td>\n",
       "      <td>2.0</td>\n",
       "    </tr>\n",
       "    <tr>\n",
       "      <th>2617</th>\n",
       "      <td>30.00</td>\n",
       "      <td>800</td>\n",
       "      <td>Ready to move</td>\n",
       "      <td>2</td>\n",
       "      <td>3.0</td>\n",
       "      <td>Veppampattu</td>\n",
       "      <td>Velan Housing Properties</td>\n",
       "      <td>2.0</td>\n",
       "    </tr>\n",
       "    <tr>\n",
       "      <th>2618</th>\n",
       "      <td>31.50</td>\n",
       "      <td>850</td>\n",
       "      <td>Ready to move</td>\n",
       "      <td>2</td>\n",
       "      <td>3.0</td>\n",
       "      <td>Veppampattu</td>\n",
       "      <td>Velan Housing Properties</td>\n",
       "      <td>2.0</td>\n",
       "    </tr>\n",
       "    <tr>\n",
       "      <th>2619</th>\n",
       "      <td>34.00</td>\n",
       "      <td>900</td>\n",
       "      <td>Ready to move</td>\n",
       "      <td>2</td>\n",
       "      <td>3.0</td>\n",
       "      <td>Veppampattu</td>\n",
       "      <td>Velan Housing Properties</td>\n",
       "      <td>2.0</td>\n",
       "    </tr>\n",
       "  </tbody>\n",
       "</table>\n",
       "<p>2620 rows × 8 columns</p>\n",
       "</div>"
      ],
      "text/plain": [
       "       price  area              status  bhk  age     location  \\\n",
       "0      37.49   872       Ready to move    2  1.0    Sembakkam   \n",
       "1      93.54  1346  Under Construction    3  0.0     Selaiyur   \n",
       "2     151.00  2225  Under Construction    3  0.0    Mogappair   \n",
       "3      49.00  1028       Ready to move    2  3.0     Ambattur   \n",
       "4      42.28   588  Under Construction    2  0.0   Pallavaram   \n",
       "...      ...   ...                 ...  ...  ...          ...   \n",
       "2615   27.50   750       Ready to move    2  3.0  Veppampattu   \n",
       "2616   27.50   750       Ready to move    2  3.0  Veppampattu   \n",
       "2617   30.00   800       Ready to move    2  3.0  Veppampattu   \n",
       "2618   31.50   850       Ready to move    2  3.0  Veppampattu   \n",
       "2619   34.00   900       Ready to move    2  3.0  Veppampattu   \n",
       "\n",
       "                                   builder  bath  \n",
       "0                            MP Developers   2.0  \n",
       "1                            DAC Promoters   2.0  \n",
       "2        Casagrand Builder Private Limited   3.0  \n",
       "3                   Dugar Housing Builders   2.0  \n",
       "4     Radiance Realty Developers India Ltd   1.0  \n",
       "...                                    ...   ...  \n",
       "2615              Velan Housing Properties   2.0  \n",
       "2616              Velan Housing Properties   2.0  \n",
       "2617              Velan Housing Properties   2.0  \n",
       "2618              Velan Housing Properties   2.0  \n",
       "2619              Velan Housing Properties   2.0  \n",
       "\n",
       "[2620 rows x 8 columns]"
      ]
     },
     "execution_count": 39,
     "metadata": {},
     "output_type": "execute_result"
    }
   ],
   "source": [
    "data.to_csv = (\"clean_data.csv\")\n",
    "data1 = data\n",
    "data1"
   ]
  },
  {
   "cell_type": "code",
   "execution_count": 40,
   "id": "cafaa55a",
   "metadata": {},
   "outputs": [],
   "source": [
    "from sklearn.preprocessing import OrdinalEncoder,LabelEncoder"
   ]
  },
  {
   "cell_type": "code",
   "execution_count": 41,
   "id": "5a39849b",
   "metadata": {},
   "outputs": [],
   "source": [
    "le_status = LabelEncoder()\n"
   ]
  },
  {
   "cell_type": "code",
   "execution_count": 42,
   "id": "8907538a",
   "metadata": {},
   "outputs": [
    {
     "data": {
      "text/plain": [
       "array([0, 1])"
      ]
     },
     "execution_count": 42,
     "metadata": {},
     "output_type": "execute_result"
    }
   ],
   "source": [
    "data1['status'] = le_status.fit_transform(data1['status'])\n",
    "data1['status'].unique()"
   ]
  },
  {
   "cell_type": "code",
   "execution_count": 43,
   "id": "2e4be506",
   "metadata": {},
   "outputs": [
    {
     "data": {
      "text/plain": [
       "array([26, 25, 14,  0, 17, 36, 20,  1, 18, 23, 27, 33, 12, 19, 13,  2,  7,\n",
       "       28, 22, 16,  3, 30,  6, 29, 11,  5, 10, 21, 32,  8, 15,  9,  4, 34,\n",
       "       35, 24, 31])"
      ]
     },
     "execution_count": 43,
     "metadata": {},
     "output_type": "execute_result"
    }
   ],
   "source": [
    "le_location = LabelEncoder()\n",
    "data1['location'] = le_location.fit_transform(data1['location'])\n",
    "data1['location'].unique()"
   ]
  },
  {
   "cell_type": "code",
   "execution_count": 44,
   "id": "61c58a54",
   "metadata": {},
   "outputs": [
    {
     "data": {
      "text/plain": [
       "array([ 60,  20,  18,  26,  88, 115, 118,  68,  46,  41,  53,  84,   8,\n",
       "       116,  69, 124,  47,   7, 120,  70,  55,  83,  45,  72, 117,  27,\n",
       "       114,  25,  33, 133,  31,  10, 129,  54,   1,  61,  90,  38,  89,\n",
       "       103, 106, 108,  87,  71,   9,  51,  98, 119,   6,  35,  79,  17,\n",
       "        94,  15,  49,  62,   4, 110,  74,  78,  32, 131,  73,  34,  37,\n",
       "        85, 134, 104,  93,  59,  13,   5,  92,  81,  82,  97,  65, 113,\n",
       "        44,  39,  67, 102, 121, 111, 132, 109,  66,  48,  77, 125,  76,\n",
       "         0,  50,  16,  24,   2,  52,  96,  75,  42,  11,  99, 101,  91,\n",
       "       100,  29,  14, 127, 105, 128,  95,  80,  40,  43,  63,  36,  28,\n",
       "       112,  58,   3, 107,  56, 126, 130,  22,  19,  12,  64,  30, 123,\n",
       "        21,  23,  86,  57, 122])"
      ]
     },
     "execution_count": 44,
     "metadata": {},
     "output_type": "execute_result"
    }
   ],
   "source": [
    "le_builder = LabelEncoder()\n",
    "data1['builder'] = le_builder.fit_transform(data1['builder'])\n",
    "data1['builder'].unique()"
   ]
  },
  {
   "cell_type": "code",
   "execution_count": null,
   "id": "234dfc43",
   "metadata": {},
   "outputs": [],
   "source": []
  },
  {
   "cell_type": "markdown",
   "id": "ac3b05a8",
   "metadata": {},
   "source": [
    "# split data into x and y"
   ]
  },
  {
   "cell_type": "code",
   "execution_count": 45,
   "id": "90462275",
   "metadata": {},
   "outputs": [],
   "source": [
    "x = data1.drop(columns=\"price\",axis=1)\n",
    "y = data1['price']"
   ]
  },
  {
   "cell_type": "markdown",
   "id": "c5c439ec",
   "metadata": {},
   "source": [
    "# splitting data into train test"
   ]
  },
  {
   "cell_type": "code",
   "execution_count": 46,
   "id": "d3388aa7",
   "metadata": {},
   "outputs": [],
   "source": [
    "from sklearn.model_selection import train_test_split"
   ]
  },
  {
   "cell_type": "code",
   "execution_count": 47,
   "id": "a77bb5b5",
   "metadata": {},
   "outputs": [],
   "source": [
    "x_train, x_test, y_train, y_test = train_test_split(x,y,test_size=0.25)"
   ]
  },
  {
   "cell_type": "code",
   "execution_count": 48,
   "id": "c256a5b0",
   "metadata": {},
   "outputs": [
    {
     "name": "stdout",
     "output_type": "stream",
     "text": [
      "(655, 7)\n",
      "(655,)\n",
      "(1965, 7)\n",
      "(1965,)\n"
     ]
    }
   ],
   "source": [
    "print(x_test.shape)\n",
    "print(y_test.shape)\n",
    "print(x_train.shape)\n",
    "print(y_train.shape)"
   ]
  },
  {
   "cell_type": "markdown",
   "id": "57f21cb7",
   "metadata": {},
   "source": [
    "# creating multiple model"
   ]
  },
  {
   "cell_type": "code",
   "execution_count": 49,
   "id": "dc6387c6",
   "metadata": {},
   "outputs": [],
   "source": [
    "#linear regression\n",
    "from sklearn.linear_model import LinearRegression, Ridge,Lasso,ElasticNet"
   ]
  },
  {
   "cell_type": "code",
   "execution_count": 50,
   "id": "f0f0dac4",
   "metadata": {},
   "outputs": [
    {
     "data": {
      "text/plain": [
       "0.6836425688286596"
      ]
     },
     "execution_count": 50,
     "metadata": {},
     "output_type": "execute_result"
    }
   ],
   "source": [
    "lr = LinearRegression()\n",
    "m_lr =lr.fit(x_train,y_train)\n",
    "lr.score(x_test,y_test)\n",
    " \n"
   ]
  },
  {
   "cell_type": "markdown",
   "id": "d8bf5264",
   "metadata": {},
   "source": [
    "from sklearn.metrics import mean_squared_error as mse\n",
    "lr.fit(x_train,y_train)\n",
    "y_pred = lr.predict(x_train)\n",
    "rmse = np.sqrt(mse(y_train,y_pred))\n",
    "rmse"
   ]
  },
  {
   "cell_type": "code",
   "execution_count": 51,
   "id": "b1b3e03f",
   "metadata": {},
   "outputs": [
    {
     "data": {
      "text/plain": [
       "0.6836514413727304"
      ]
     },
     "execution_count": 51,
     "metadata": {},
     "output_type": "execute_result"
    }
   ],
   "source": [
    "rr = Ridge(alpha = 0.5)\n",
    "m_rr =rr.fit(x_train,y_train)\n",
    "rr.score(x_test,y_test)"
   ]
  },
  {
   "cell_type": "code",
   "execution_count": 52,
   "id": "1020be67",
   "metadata": {},
   "outputs": [
    {
     "data": {
      "text/plain": [
       "0.6845912318190455"
      ]
     },
     "execution_count": 52,
     "metadata": {},
     "output_type": "execute_result"
    }
   ],
   "source": [
    "las = Lasso(alpha=0.5)\n",
    "m_las = las.fit(x_train,y_train)\n",
    "las.score(x_test,y_test)"
   ]
  },
  {
   "cell_type": "code",
   "execution_count": 53,
   "id": "604be2e3",
   "metadata": {},
   "outputs": [
    {
     "data": {
      "text/plain": [
       "0.6856474574459954"
      ]
     },
     "execution_count": 53,
     "metadata": {},
     "output_type": "execute_result"
    }
   ],
   "source": [
    "el = ElasticNet()\n",
    "m_el = el.fit(x_train,y_train)\n",
    "el.score(x_test,y_test)"
   ]
  },
  {
   "cell_type": "code",
   "execution_count": 54,
   "id": "acc5db29",
   "metadata": {},
   "outputs": [],
   "source": [
    "from sklearn.ensemble import RandomForestRegressor\n",
    "from xgboost import XGBRegressor\n",
    "from sklearn.model_selection import cross_val_score , RepeatedKFold\n"
   ]
  },
  {
   "cell_type": "code",
   "execution_count": 55,
   "id": "d88d8cbb",
   "metadata": {},
   "outputs": [],
   "source": [
    "model = XGBRegressor()\n",
    "model.fit(x,y)\n",
    "cv = RepeatedKFold(n_repeats=3,n_splits= 10, random_state=1)\n",
    "score = cross_val_score(model,x_train,y_train,cv=cv ,n_jobs=1)\n"
   ]
  },
  {
   "cell_type": "code",
   "execution_count": 56,
   "id": "66c718cb",
   "metadata": {
    "scrolled": false
   },
   "outputs": [
    {
     "name": "stdout",
     "output_type": "stream",
     "text": [
      "85.89585102358534\n"
     ]
    }
   ],
   "source": [
    "print(score.mean()*100)"
   ]
  },
  {
   "cell_type": "code",
   "execution_count": 57,
   "id": "c34284fe",
   "metadata": {},
   "outputs": [],
   "source": [
    "model2 = RandomForestRegressor()\n",
    "model2.fit(x,y)\n",
    "cv = RepeatedKFold(n_repeats=3,n_splits= 10, random_state=1)\n",
    "score2 = cross_val_score(model2,x_train,y_train,cv=cv ,n_jobs=1)"
   ]
  },
  {
   "cell_type": "code",
   "execution_count": 58,
   "id": "95b001a4",
   "metadata": {},
   "outputs": [
    {
     "name": "stdout",
     "output_type": "stream",
     "text": [
      "84.66856537580566\n"
     ]
    }
   ],
   "source": [
    "print(score2.mean()*100)"
   ]
  },
  {
   "cell_type": "markdown",
   "id": "153e05f2",
   "metadata": {},
   "source": [
    "from sklearn.metrics import mean_squared_error as mse\n",
    "model.fit(x,y)\n",
    "y_pred = model.predict(x)\n",
    "rmse = mse(y_pred,y)\n",
    "rmse"
   ]
  },
  {
   "cell_type": "markdown",
   "id": "7ce42de0",
   "metadata": {},
   "source": [
    "making predictive system"
   ]
  },
  {
   "cell_type": "code",
   "execution_count": 59,
   "id": "528dc631",
   "metadata": {},
   "outputs": [],
   "source": [
    "X =np.array([[872,\"Ready to move\",2,2,1,\"Sembakkam\",\"MP Developers\"]])"
   ]
  },
  {
   "cell_type": "code",
   "execution_count": 60,
   "id": "0a1251ce",
   "metadata": {},
   "outputs": [
    {
     "data": {
      "text/plain": [
       "array([['872', 'Ready to move', '2', '2', '1', 'Sembakkam',\n",
       "        'MP Developers']], dtype='<U13')"
      ]
     },
     "execution_count": 60,
     "metadata": {},
     "output_type": "execute_result"
    }
   ],
   "source": [
    "X"
   ]
  },
  {
   "cell_type": "code",
   "execution_count": 61,
   "id": "3755a629",
   "metadata": {},
   "outputs": [],
   "source": [
    "X[:,1] = le_status.transform(X[:,1])\n",
    "X[:,5] = le_location.transform(X[:,5])\n",
    "X[:,6] = le_builder.transform(X[:,6])\n"
   ]
  },
  {
   "cell_type": "code",
   "execution_count": 62,
   "id": "c2d86af0",
   "metadata": {},
   "outputs": [
    {
     "data": {
      "text/plain": [
       "array([['872', '0', '2', '2', '1', '26', '60']], dtype='<U13')"
      ]
     },
     "execution_count": 62,
     "metadata": {},
     "output_type": "execute_result"
    }
   ],
   "source": [
    "X"
   ]
  },
  {
   "cell_type": "code",
   "execution_count": 63,
   "id": "383d002a",
   "metadata": {},
   "outputs": [],
   "source": [
    "X = X.astype(float)"
   ]
  },
  {
   "cell_type": "code",
   "execution_count": 64,
   "id": "c4057065",
   "metadata": {},
   "outputs": [
    {
     "data": {
      "text/plain": [
       "array([[872.,   0.,   2.,   2.,   1.,  26.,  60.]])"
      ]
     },
     "execution_count": 64,
     "metadata": {},
     "output_type": "execute_result"
    }
   ],
   "source": [
    "X"
   ]
  },
  {
   "cell_type": "code",
   "execution_count": 65,
   "id": "11f1c2d7",
   "metadata": {},
   "outputs": [],
   "source": [
    "import pickle"
   ]
  },
  {
   "cell_type": "code",
   "execution_count": 66,
   "id": "fe99f97b",
   "metadata": {},
   "outputs": [],
   "source": [
    "data2 ={\"model\" :model2,\"le_status\" :le_status,\"le_location\" :le_location,\"le_builder\" :le_builder}\n",
    "with open('saved_steps.pkl','wb')as file:\n",
    "    pickle.dump(data2,file)"
   ]
  },
  {
   "cell_type": "code",
   "execution_count": 67,
   "id": "588314cd",
   "metadata": {},
   "outputs": [],
   "source": [
    "with open('saved_steps.pkl', 'rb') as file:\n",
    "    data2 = pickle.load(file)\n",
    "    \n",
    "model_loaded = data2[\"model\"]\n",
    "le_status = data2[\"le_status\"]\n",
    "le_location = data2[\"le_location\"]\n",
    "le_builder = data2[\"le_builder\"]\n",
    "    "
   ]
  },
  {
   "cell_type": "code",
   "execution_count": 68,
   "id": "ffd7c6b6",
   "metadata": {},
   "outputs": [],
   "source": [
    "#New data for prediction\n",
    "#new_data=pd.DataFrame({\"area\" :1028, \"status\": 1, \"bhk\": 2, \"bathroom\" : 2, \"age\":2,\"location\":26,\"builder\":60},index=[1])\n",
    "#model.predict(input_data)"
   ]
  },
  {
   "cell_type": "code",
   "execution_count": 69,
   "id": "6866fa7c",
   "metadata": {},
   "outputs": [
    {
     "data": {
      "text/plain": [
       "array([43.198])"
      ]
     },
     "execution_count": 69,
     "metadata": {},
     "output_type": "execute_result"
    }
   ],
   "source": [
    "model2.predict(X)"
   ]
  },
  {
   "cell_type": "code",
   "execution_count": 70,
   "id": "957ede30",
   "metadata": {},
   "outputs": [
    {
     "data": {
      "text/plain": [
       "array([43.198])"
      ]
     },
     "execution_count": 70,
     "metadata": {},
     "output_type": "execute_result"
    }
   ],
   "source": [
    "model_loaded.predict(X)"
   ]
  },
  {
   "cell_type": "code",
   "execution_count": null,
   "id": "9a852f12",
   "metadata": {},
   "outputs": [],
   "source": []
  }
 ],
 "metadata": {
  "kernelspec": {
   "display_name": "Python 3",
   "language": "python",
   "name": "python3"
  },
  "language_info": {
   "codemirror_mode": {
    "name": "ipython",
    "version": 3
   },
   "file_extension": ".py",
   "mimetype": "text/x-python",
   "name": "python",
   "nbconvert_exporter": "python",
   "pygments_lexer": "ipython3",
   "version": "3.8.8"
  }
 },
 "nbformat": 4,
 "nbformat_minor": 5
}
